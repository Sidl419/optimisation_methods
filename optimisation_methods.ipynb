{
 "metadata": {
  "language_info": {
   "codemirror_mode": {
    "name": "ipython",
    "version": 3
   },
   "file_extension": ".py",
   "mimetype": "text/x-python",
   "name": "python",
   "nbconvert_exporter": "python",
   "pygments_lexer": "ipython3",
   "version": "3.6.8"
  },
  "orig_nbformat": 2,
  "kernelspec": {
   "name": "python368jvsc74a57bd054ff0f65d3b802c1a79f5e4d10f397d2b3cfd695e46989a6850541dc5e60c588",
   "display_name": "Python 3.6.8 64-bit ('base': conda)"
  },
  "metadata": {
   "interpreter": {
    "hash": "31f2aee4e71d21fbe5cf8b01ff0e069b9275f58929596ceb00d14d90e3e16cd6"
   }
  }
 },
 "nbformat": 4,
 "nbformat_minor": 2,
 "cells": [
  {
   "cell_type": "code",
   "execution_count": 1,
   "metadata": {},
   "outputs": [],
   "source": [
    "import numpy as np"
   ]
  },
  {
   "source": [
    "#  1. Метод проекции градиента\n",
    "\n",
    "Рассматривается задача минимизации \n",
    "$$ J(u) = ||u||^2 + <u,a>^2_{\\mathbb{H}} + <u,b>_{\\mathbb{H}} \\rightarrow \\inf_{u \\in U}, \\qquad ||a||_{\\mathbb{H}}=1, ||b||_{\\mathbb{H}}=2, <a,b>_{\\mathbb{H}} = 0,$$\n",
    "$$ U = \\Big\\{u \\in \\mathbb{H} \\quad | \\quad ||u||_{\\mathbb{H}} \\le 2, \\quad <a,u>_{\\mathbb{H}} \\ge 1\\Big\\}.$$\n",
    "\n",
    "Взяв в качестве начального приближения элемент  $u_0 = a$, решить эту задачу с помощью метода проекции градиента с постоянным шагом $\\alpha_k \\equiv \\frac{1}{4}$. "
   ],
   "cell_type": "markdown",
   "metadata": {}
  },
  {
   "source": [
    "**Решение:** \n",
    "$$ u_{k+1} = a + u_k - \\alpha_k J'(u_k),$$\n",
    "где $J'(u) = u + 2a <u,a> + b$"
   ],
   "cell_type": "markdown",
   "metadata": {}
  },
  {
   "cell_type": "code",
   "execution_count": 184,
   "metadata": {},
   "outputs": [],
   "source": [
    "def gradient_projection(u_0, alpha, a, b, t_0=0, t_1=1, h = 10):\n",
    "    '''\n",
    "    Функция возвращает минимальное значение функционала и вектор, на котором оно достигается\n",
    "    '''\n",
    "    # Если были поданы функции, переводим их в векторы заданного формата\n",
    "    if type(a) == np.ufunc:\n",
    "        a = np.vectorize(a)(np.linspace(t_0, t_1, h))\n",
    "    if type(b) == np.ufunc:\n",
    "        b = np.vectorize(b)(np.linspace(t_0, t_1, h))\n",
    "    if type(u_0) == np.ufunc:\n",
    "        u_0 = np.vectorize(u_0)(np.linspace(t_0, t_1, h))\n",
    "\n",
    "    # Инициализация переменных\n",
    "    u = u_0.astype(np.float64)\n",
    "    change = np.full_like(u, 10)\n",
    "\n",
    "    # Основной цикл программы\n",
    "    while(change.any() != 0):\n",
    "        J_diff = b + 2 * (u + a * sum(u * a))\n",
    "        change = a - alpha * J_diff\n",
    "        u += change\n",
    "\n",
    "    return sum(u**2)+ sum(u * a)**2 + sum(u * b), u"
   ]
  },
  {
   "cell_type": "code",
   "execution_count": 185,
   "metadata": {
    "tags": []
   },
   "outputs": [
    {
     "output_type": "stream",
     "name": "stdout",
     "text": [
      "Min value:\t 1.0\nOptimum:\t [ 1. -1.]\n"
     ]
    }
   ],
   "source": [
    "a = np.array([1, 0])\n",
    "b = np.array([0, 2])\n",
    "alpha = 1/4\n",
    "\n",
    "J, u = gradient_projection(a, alpha, a, b)\n",
    "print('Min value:\\t', J)\n",
    "print('Optimum:\\t', u)"
   ]
  },
  {
   "source": [
    "# 2. Метод Ньютона\n",
    "\n",
    "Рассматривается задача минимизации \n",
    "$$ J(u) = \\frac{1}{2}||u - a||^4_{\\mathbb{H}} + ||u - b||^2_{\\mathbb{H}} \\rightarrow \\inf_{u \\in U}, \\qquad U = \\Big\\{u \\in \\mathbb{H} \\quad | \\quad <a + b,u>_{\\mathbb{H}} \\ge 2\\Big\\}, \\quad ||a||_{\\mathbb{H}}=||b||_{\\mathbb{H}}=1, <a,b>_{\\mathbb{H}} = 0.$$\n",
    "$$ $$\n",
    "\n",
    "Взяв в качестве начального приближения элемент  $u_0 = 2a$, решить эту задачу с помощью метода Ньютона. "
   ],
   "cell_type": "markdown",
   "metadata": {}
  },
  {
   "source": [
    "**Решение:** \n",
    "$$ u_{k+1} = u_k + \\lambda A + B$$\n",
    "$$ \\lambda = \\frac{2 - <a + b, B + u_k>}{<a + b, A>}$$\n",
    "$$A = \\frac{1}{1 + ||\\alpha||^2}\\Big(\\frac{a+b}{2} - \\frac{<a+b, \\alpha>}{1 + 3||\\alpha||^2} \\alpha\\Big)$$\n",
    "$$B = \\frac{1}{1 + ||\\alpha||^2}\\Big(\\frac{<J'(u_k), \\alpha>}{1 + 3||\\alpha||^2} \\alpha - \\frac{J'(u_k)}{2}\\Big)$$\n",
    "$$\\alpha = u_k - a, \\qquad J'(u_k) = 2 ||u - a||^2 (u - a) + 2 (u - b)$$"
   ],
   "cell_type": "markdown",
   "metadata": {}
  },
  {
   "cell_type": "code",
   "execution_count": 179,
   "metadata": {},
   "outputs": [],
   "source": [
    "def Newton(u_0, a, b, t_0=0, t_1=1, h = 10):\n",
    "    '''\n",
    "    Функция возвращает минимальное значение функционала и вектор, на котором оно достигается\n",
    "    '''\n",
    "    # Если были поданы функции, переводим их в векторы заданного формата\n",
    "    if type(a) == np.ufunc:\n",
    "        a = np.vectorize(a)(np.linspace(t_0, t_1, h))\n",
    "    if type(b) == np.ufunc:\n",
    "        b = np.vectorize(b)(np.linspace(t_0, t_1, h))\n",
    "    if type(u_0) == np.ufunc:\n",
    "        u_0 = np.vectorize(u_0)(np.linspace(t_0, t_1, h))\n",
    "\n",
    "    # Инициализация переменных\n",
    "    u = u_0.astype(np.float64)\n",
    "    change = np.full_like(u, 10)\n",
    "\n",
    "    # Основной цикл программы\n",
    "    while(change.any() != 0):\n",
    "        # Считаем производную в точке u_k\n",
    "        J_diff = 2 * (sum((u - a)**2) * (u - a) + (u - b))\n",
    "\n",
    "        # Считаем вспомогательные переменные\n",
    "        alpha = u - a\n",
    "\n",
    "        A_1 = (a + b) / 2 - sum((a + b) * alpha) / (1 + 3 * sum(alpha**2)) * alpha\n",
    "        A_1 /= 1 + sum(alpha**2)\n",
    "\n",
    "        B_1 = sum(J_diff * alpha) / (1 + 3 * sum(alpha**2)) * alpha - J_diff / 2\n",
    "        B_1 /= 1 + sum(alpha**2)\n",
    "\n",
    "        # Если при lambda = 0 u принадлежит U, то это и есть решение\n",
    "        if sum((a + b) * (u + B_1)) >= 2:\n",
    "            change = B_1\n",
    "            u += change\n",
    "            continue\n",
    "\n",
    "        # Считаем lambda\n",
    "        lambda_1 = (2 - sum((a + b) * (B_1 + u))) / sum((a + b) * A_1)\n",
    "\n",
    "        change = lambda_1 * A_1 + B_1\n",
    "        u += change\n",
    "\n",
    "    return sum((u - a)**2)**2 / 2 + sum((u - b)**2), u"
   ]
  },
  {
   "cell_type": "code",
   "execution_count": 183,
   "metadata": {},
   "outputs": [
    {
     "output_type": "stream",
     "name": "stdout",
     "text": [
      "Min value:\t 1.5\nOptimum:\t [1. 1.]\n"
     ]
    }
   ],
   "source": [
    "a = np.array([1, 0])\n",
    "b = np.array([0, 1])\n",
    "\n",
    "J, u = Newton(2 * a, a, b)\n",
    "print('Min value:\\t', J)\n",
    "print('Optimum:\\t', u)"
   ]
  },
  {
   "source": [
    "#  3. Симплекс-метод\n",
    "\n",
    "С помощью симплекс-метода решить каноническую задачу линейного программирования:\n",
    "$$ J(u) = u_1 + u_2 - u_3 + u_5 \\rightarrow \\inf_{u \\in U},$$\n",
    "$ U = \\Big\\{u=(u_1, u_2, u_3, u_4, u_5)^T \\ge 0, u_1 + u_4 - u_5 = 1, u_1 + u_2 + 2u_4 = 3, u_3 + u_4 = 1.\\Big\\}$\n",
    "\n",
    "В качестве начальной угловой точки взять $v_0 = (3,0,1,0,2)^T$"
   ],
   "cell_type": "markdown",
   "metadata": {}
  },
  {
   "cell_type": "code",
   "execution_count": 107,
   "metadata": {},
   "outputs": [],
   "source": [
    "c = np.array([1, 1, -1, 0, 1])\n",
    "b = np.array([1, 3, 1])\n",
    "A = np.array([[1, 0, 0, 1, -1], [1, 1, 0, 2, 0], [0, 0, 1, 1, 0]])\n",
    "\n",
    "v_0 = np.array([3, 0, 1, 0, 2])"
   ]
  },
  {
   "cell_type": "code",
   "execution_count": 112,
   "metadata": {},
   "outputs": [],
   "source": [
    "def simplex(A, b, c, v_0):\n",
    "    '''\n",
    "    Функция возвращает минимальное значение функционала и точку, в которой оно достигается\n",
    "    '''\n",
    "    v = v_0\n",
    "    J = np.inf\n",
    "\n",
    "    print('Initial point: ', v_0)\n",
    "    print('Optimization path:')\n",
    "\n",
    "    # Ищем базисные и свободные столбцы\n",
    "    J_b = np.where((A * v).sum(axis=0) != 0)[0]\n",
    "    J_A = set(range(5)) - set(J_b)\n",
    "    J_A = np.array(list(J_A))\n",
    "\n",
    "    while(True):\n",
    "        # Ищем матрицы B и F \n",
    "        B = A[:,J_b]\n",
    "        F = A[:,J_A]\n",
    "\n",
    "        # Вычисляем дельты\n",
    "        BF = np.linalg.inv(B) @ F\n",
    "        c_b = c[J_b]\n",
    "        c_A = c[J_A]\n",
    "        deltas = (BF.T @ c_b[:,np.newaxis] - c_A[:,np.newaxis]).flatten()\n",
    "\n",
    "        # Ищем положительные дельты\n",
    "        pos_deltas = np.where(deltas > 0)[0]\n",
    "\n",
    "        # Если положительных дельт нет, оптимальное решение найдено\n",
    "        if len(pos_deltas) == 0:\n",
    "            J = sum(v * c)\n",
    "            break\n",
    "        \n",
    "        # Выбираем следующую дельту (положительная с последним номером)\n",
    "        next_delta = pos_deltas[-1]\n",
    "\n",
    "        # Ищем положительные гаммы\n",
    "        gamma_nonzero = np.where(BF[:,next_delta] > 0)[0]\n",
    "\n",
    "        # Если положительных гамм нет, то это луч и функционал может бесконечно убывать\n",
    "        if len(gamma_nonzero) == 0:\n",
    "            J = -np.inf\n",
    "            break\n",
    "        \n",
    "        # Вычисляем тетты\n",
    "        thetas = v[J_b][gamma_nonzero] / BF[:,next_delta][gamma_nonzero]\n",
    "\n",
    "        # Переходим в следующую точку\n",
    "        w = np.zeros_like(v)\n",
    "        w[J_b] = v[J_b] - thetas.min() * BF[:,next_delta]\n",
    "        w[J_A[next_delta]] = thetas.min()\n",
    "        print('\\t', w)\n",
    "\n",
    "        # Обновляем множества базисных и свободных столбцов\n",
    "        J_b_t = set(J_b)\n",
    "        J_b_t.remove(J_b[thetas.argmin()])\n",
    "        J_b_t.add(J_A[next_delta])\n",
    "        J_b = np.array(list(J_b_t))\n",
    "        J_A = set(range(5)) - set(J_b)\n",
    "        J_A = np.array(list(J_A))\n",
    "\n",
    "        v = w\n",
    "\n",
    "    print()\n",
    "    print('Result:')\n",
    "    print('\\tOptimal point: ', v)\n",
    "    print('\\tInfimum: ', J)\n",
    "\n",
    "    return J, v"
   ]
  },
  {
   "cell_type": "code",
   "execution_count": 113,
   "metadata": {},
   "outputs": [
    {
     "output_type": "stream",
     "name": "stdout",
     "text": [
      "Initial point:  [3 0 1 0 2]\nOptimization path:\n\t [1 0 0 1 1]\n\t [0 1 0 1 0]\n\nResult:\n\tOptimal point:  [0 1 0 1 0]\n\tInfimum:  1\n"
     ]
    },
    {
     "output_type": "execute_result",
     "data": {
      "text/plain": [
       "(1, array([0, 1, 0, 1, 0]))"
      ]
     },
     "metadata": {},
     "execution_count": 113
    }
   ],
   "source": [
    "simplex(A, b, c, v_0)"
   ]
  }
 ]
}